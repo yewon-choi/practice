{
 "cells": [
  {
   "cell_type": "markdown",
   "metadata": {},
   "source": [
    "6203. [파이썬 프로그래밍 기초(2) 파이썬의 기본 응용] 5. 객체지향 1\n",
    "다음의 결과와 같이 국어, 영어, 수학 점수를 입력받아 합계를 구하는 객체지향 코드를 작성하십시오. \n",
    "이 때 학생 클래스의 객체는 객체 생성 시 국어, 영어, 수학 점수를 저장하며, 총점을 구하는 메서드를 제공합니다.\n"
   ]
  },
  {
   "cell_type": "code",
   "execution_count": 14,
   "metadata": {},
   "outputs": [
    {
     "name": "stdout",
     "output_type": "stream",
     "text": [
      "89, 90, 100\n",
      "국어, 영어, 수학의 총점: 279\n"
     ]
    }
   ],
   "source": [
    "class student:\n",
    "    def __init__(self, kor,eng,math):\n",
    "        self.kor = kor\n",
    "        self.eng = eng\n",
    "        self.math = math\n",
    "        \n",
    "    def total(self):\n",
    "        return self.kor + self.eng + self.math\n",
    "score = list(map(int, input().split(',')))\n",
    "student = student(score[0], score[1], score[2])\n",
    "print('국어, 영어, 수학의 총점: {}'.format(student.total()))"
   ]
  },
  {
   "cell_type": "markdown",
   "metadata": {},
   "source": [
    "6208. [파이썬 프로그래밍 기초(2) 파이썬의 기본 응용] 5. 객체지향 2\n",
    "국적을 출력하는 printNationality 정적 메서드를 갖는 Korean 클래스를 정의하고\n",
    "메서드를 호출하는 코드를 작성해봅시다.\n",
    "*정적메서드: 클래스에서 직접 접근할 수 있는 메소드, @staticmethod, @classmethod"
   ]
  },
  {
   "cell_type": "code",
   "execution_count": 9,
   "metadata": {
    "scrolled": true
   },
   "outputs": [
    {
     "name": "stdout",
     "output_type": "stream",
     "text": [
      "대한민국\n",
      "대한민국\n"
     ]
    }
   ],
   "source": [
    "class Korean:\n",
    "    Nationality = '대한민국'\n",
    "    \n",
    "    @classmethod\n",
    "    def printNationality(cls):\n",
    "        return cls.Nationality\n",
    "\n",
    "print(Korean.printNationality())\n",
    "print(Korean.printNationality())"
   ]
  },
  {
   "cell_type": "code",
   "execution_count": 7,
   "metadata": {},
   "outputs": [
    {
     "name": "stdout",
     "output_type": "stream",
     "text": [
      "<class '__main__.Korean'>\n",
      "<class '__main__.Korean'>\n"
     ]
    }
   ],
   "source": [
    "class Korean:\n",
    "    Nationality = '대한민국'\n",
    "    \n",
    "    @staticmethod\n",
    "    def printNationality():\n",
    "        return Korean\n",
    "    \n",
    "print(Korean.printNationality())\n",
    "print(Korean.printNationality())"
   ]
  },
  {
   "cell_type": "markdown",
   "metadata": {},
   "source": [
    "6217. [파이썬 프로그래밍 기초(2) 파이썬의 기본 응용] 5. 객체지향 3\n",
    "name 프로퍼티를 가진 Student를 부모 클래스로 major 프로퍼티를 가진\n",
    "GraduateStudent 자식 클래스를 정의하고 이 클래스의 객체를\n",
    " 다음과 같이 문자열로 출력하는 코드를 작성하십시오."
   ]
  },
  {
   "cell_type": "code",
   "execution_count": 13,
   "metadata": {},
   "outputs": [
    {
     "name": "stdout",
     "output_type": "stream",
     "text": [
      "이름: 홍길동\n",
      "이름: 이순신, 전공: 컴퓨터\n"
     ]
    }
   ],
   "source": [
    "class Student:\n",
    "    def __init__(self, name):\n",
    "        self.name = name\n",
    "    \n",
    "    def intro(self):\n",
    "        print('이름: {}'.format(self.name))\n",
    "        \n",
    "class GraduateStudent(Student):\n",
    "    def __init__(self, name, major):\n",
    "        super().__init__(name)\n",
    "        self.major = major\n",
    "    \n",
    "    def intro(self):\n",
    "        print('이름: {}, 전공: {}'.format(self.name, self.major))\n",
    "\n",
    "p1 = Student('홍길동')\n",
    "p2 = GraduateStudent('이순신', '컴퓨터')\n",
    "\n",
    "p1.intro()\n",
    "p2.intro()"
   ]
  },
  {
   "cell_type": "markdown",
   "metadata": {},
   "source": [
    "6223. [파이썬 프로그래밍 기초(2) 파이썬의 기본 응용] 5. 객체지향 4\n",
    "반지름 정보를 갖고, 원의 면적을 계산하는 메서드를 갖는 Circle 클래스를 정의하고,\n",
    "생성한 객체의 원의 면적을 출력하는 프로그램을 작성하십시오."
   ]
  },
  {
   "cell_type": "code",
   "execution_count": 14,
   "metadata": {},
   "outputs": [
    {
     "name": "stdout",
     "output_type": "stream",
     "text": [
      "원의 면적: 12.56\n"
     ]
    }
   ],
   "source": [
    "class Circle:\n",
    "    def __init__(self, half):\n",
    "        self.half = half\n",
    "        \n",
    "    def Circle_area(self):\n",
    "        return round(3.14 * self.half * self.half, 2)\n",
    "    \n",
    "cir = Circle(2)\n",
    "print('원의 면적: {}'.format(cir.Circle_area()))   "
   ]
  },
  {
   "cell_type": "markdown",
   "metadata": {},
   "source": [
    "6225. [파이썬 프로그래밍 기초(2) 파이썬의 기본 응용] 5. 객체지향 5\n",
    "가로, 세로 정보을 갖고, 사각형의 면적을 계산하는 메서드를 갖는 Rectangle 클래스를 정의하고,\n",
    "생성한 객체의 사각형의 면적을 출력하는 프로그램을 작성하십시오."
   ]
  },
  {
   "cell_type": "code",
   "execution_count": 16,
   "metadata": {},
   "outputs": [
    {
     "name": "stdout",
     "output_type": "stream",
     "text": [
      "사각형의 면적: 20\n"
     ]
    }
   ],
   "source": [
    "class Rectangle:\n",
    "    def __init__(self, garo, sero):\n",
    "        self.garo = garo\n",
    "        self.sero = sero\n",
    "        \n",
    "    def area(self):\n",
    "        return self.garo * self.sero\n",
    "\n",
    "rec = Rectangle(4,5)\n",
    "print('사각형의 면적: {}'.format(rec.area()))"
   ]
  },
  {
   "cell_type": "markdown",
   "metadata": {},
   "source": [
    "6228. [파이썬 프로그래밍 기초(2) 파이썬의 기본 응용] 5. 객체지향 6\n",
    "Shape를 부모 클래스로 Square 자식 클래스를 정의하는 코드를 작성하십시오.\n",
    "Square 클래스는 length 필드를 가지며, 0을 반환하는 Shape 클래스의 area 메서드를\n",
    "length * length 값을 반환하는 메서드로 오버라이딩합니다."
   ]
  },
  {
   "cell_type": "code",
   "execution_count": 17,
   "metadata": {},
   "outputs": [
    {
     "name": "stdout",
     "output_type": "stream",
     "text": [
      "정사각형의 면적: 9\n"
     ]
    }
   ],
   "source": [
    "class Shape:\n",
    "    \n",
    "    def area(self):\n",
    "        return 0\n",
    "    \n",
    "class Square(Shape):\n",
    "    \n",
    "    def __init__(self, length):\n",
    "        self.length = length\n",
    "    \n",
    "    def area(self):\n",
    "        return self.length * self.length\n",
    "\n",
    "squ = Square(3)    \n",
    "print('정사각형의 면적: {}'.format(squ.area()))    "
   ]
  },
  {
   "cell_type": "markdown",
   "metadata": {},
   "source": [
    "6229. [파이썬 프로그래밍 기초(2) 파이썬의 기본 응용] 5. 객체지향 7\n",
    "Person를 부모 클래스로 Male, Female 자식 클래스를 정의하는 코드를 작성하십시오.\n",
    "\"Unknown\"을 반환하는 Person 클래스의 getGender 메서드를 Male 클래스와 Female 클래스는\n",
    "\"Male\", \"Female\" 값을 반환하는 메서드로 오버라이딩합니다."
   ]
  },
  {
   "cell_type": "code",
   "execution_count": 23,
   "metadata": {},
   "outputs": [
    {
     "name": "stdout",
     "output_type": "stream",
     "text": [
      "Male\n",
      "Female\n"
     ]
    }
   ],
   "source": [
    "class Person:\n",
    "    def getGender(self):\n",
    "        return 'Unknown'\n",
    "    \n",
    "class Male(Person):\n",
    "    def getGender(self):\n",
    "        return 'Male'\n",
    "    \n",
    "class Female(Person):\n",
    "    def getGender(self):\n",
    "        return 'Female'\n",
    "\n",
    "print(Male().getGender())\n",
    "print(Female().getGender())\n",
    "\n",
    "# p1 = Male()\n",
    "# p2 = Female()\n",
    "\n",
    "# print(p1.getGender())\n",
    "# print(p2.getGender())"
   ]
  }
 ],
 "metadata": {
  "kernelspec": {
   "display_name": "Python 3",
   "language": "python",
   "name": "python3"
  },
  "language_info": {
   "codemirror_mode": {
    "name": "ipython",
    "version": 3
   },
   "file_extension": ".py",
   "mimetype": "text/x-python",
   "name": "python",
   "nbconvert_exporter": "python",
   "pygments_lexer": "ipython3",
   "version": "3.7.6"
  }
 },
 "nbformat": 4,
 "nbformat_minor": 4
}
