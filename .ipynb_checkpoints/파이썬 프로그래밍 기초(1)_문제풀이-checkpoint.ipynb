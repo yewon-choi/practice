{
 "cells": [
  {
   "cell_type": "code",
   "execution_count": 8,
   "metadata": {},
   "outputs": [
    {
     "name": "stdout",
     "output_type": "stream",
     "text": [
      "90\n",
      "90.00 kg =>  198.41 lb\n"
     ]
    }
   ],
   "source": [
    "#6206. [파이썬 프로그래밍 기초(1) 파이썬의 기본 구조와 기초 문법] 5. 연산자 2 D1 \n",
    "\n",
    "x = int(input())\n",
    "y = round(x * 2.2046,2)\n",
    "print('%0.2f kg =>  %0.2f lb'%(x,y))"
   ]
  },
  {
   "cell_type": "code",
   "execution_count": 17,
   "metadata": {},
   "outputs": [
    {
     "name": "stdout",
     "output_type": "stream",
     "text": [
      "18\n",
      "18.00 ℃ =>  52.97 ℉\n"
     ]
    }
   ],
   "source": [
    "#6207. [파이썬 프로그래밍 기초(1) 파이썬의 기본 구조와 기초 문법] 5. 연산자 3 D1 \n",
    "#1\n",
    "x = int(input())\n",
    "y = (82.40 / 28.00) * x\n",
    "print('%0.2f ℃ =>  %0.2f ℉'%(x,y))\n",
    "\n",
    "#2\n",
    "x=float(input())\n",
    "print(\"%0.2f ℃ =>  %0.2f ℉\"% (x,x*206/70))"
   ]
  },
  {
   "cell_type": "code",
   "execution_count": 18,
   "metadata": {},
   "outputs": [
    {
     "name": "stdout",
     "output_type": "stream",
     "text": [
      "82\n",
      "82.00 ℉ =>  27.78 ℃\n"
     ]
    }
   ],
   "source": [
    "#6209. [파이썬 프로그래밍 기초(1) 파이썬의 기본 구조와 기초 문법] 5. 연산자 4 D1\n",
    "\n",
    "x = int(input())\n",
    "y = (27.78 / 82.00) * x\n",
    "print('%0.2f ℉ =>  %0.2f ℃'%(x,y))"
   ]
  },
  {
   "cell_type": "code",
   "execution_count": 23,
   "metadata": {},
   "outputs": [
    {
     "name": "stdout",
     "output_type": "stream",
     "text": [
      "혼합된 소금물의 농도: 6.67%\n"
     ]
    }
   ],
   "source": [
    "#6216. [파이썬 프로그래밍 기초(1) 파이썬의 기본 구조와 기초 문법] 5. 연산자 5 D1 \n",
    "x_1 = 100\n",
    "x_2 = 20\n",
    "y_1 = 200\n",
    "y_2 = 0\n",
    "z = ((x_2 + y_2) / (x_1 + y_1)) * 100\n",
    "print('혼합된 소금물의 농도: {}%'.format(round(z,2)))"
   ]
  },
  {
   "cell_type": "code",
   "execution_count": 27,
   "metadata": {},
   "outputs": [
    {
     "name": "stdout",
     "output_type": "stream",
     "text": [
      "9\n",
      "1(은)는 9의 약수입니다.\n",
      "3(은)는 9의 약수입니다.\n",
      "9(은)는 9의 약수입니다.\n"
     ]
    }
   ],
   "source": [
    "#6218. [파이썬 프로그래밍 기초(1) 파이썬의 기본 구조와 기초 문법] 6. 흐름과 제어 - If 1 D1\n",
    "\n",
    "x = int(input())\n",
    "for i in range(1,x+1):\n",
    "    if x % i == 0:\n",
    "        print('{}(은)는 {}의 약수입니다.'.format(i,x))"
   ]
  },
  {
   "cell_type": "code",
   "execution_count": 28,
   "metadata": {},
   "outputs": [
    {
     "name": "stdout",
     "output_type": "stream",
     "text": [
      "5\n",
      "1(은)는 5의 약수입니다.\n",
      "5(은)는 5의 약수입니다.\n",
      "5(은)는 1과 5로만 나눌 수 있는 소수입니다.\n"
     ]
    }
   ],
   "source": [
    "#6219. [파이썬 프로그래밍 기초(1) 파이썬의 기본 구조와 기초 문법] 6. 흐름과 제어 - If 2 D1 \n",
    "\n",
    "x = int(input())\n",
    "cnt = 0\n",
    "for i in range(1,x+1):\n",
    "    if x % i == 0:\n",
    "        cnt += 1\n",
    "        print('{}(은)는 {}의 약수입니다.'.format(i,x))\n",
    "if cnt == 2:\n",
    "    print('{}(은)는 1과 {}로만 나눌 수 있는 소수입니다.'.format(x,x))\n",
    "        "
   ]
  },
  {
   "cell_type": "code",
   "execution_count": 30,
   "metadata": {},
   "outputs": [
    {
     "name": "stdout",
     "output_type": "stream",
     "text": [
      "b\n",
      "b 는 소문자 입니다.\n"
     ]
    }
   ],
   "source": [
    "#6220. [파이썬 프로그래밍 기초(1) 파이썬의 기본 구조와 기초 문법] 6. 흐름과 제어 - If 3 \n",
    "\n",
    "x = input()\n",
    "if x.lower():\n",
    "    print('{} 는 소문자 입니다.'.format(x))"
   ]
  },
  {
   "cell_type": "code",
   "execution_count": null,
   "metadata": {},
   "outputs": [],
   "source": [
    "#6221. [파이썬 프로그래밍 기초(1) 파이썬의 기본 구조와 기초 문법] 6. 흐름과 제어 - If 4 D1\n",
    "\n"
   ]
  },
  {
   "cell_type": "code",
   "execution_count": null,
   "metadata": {},
   "outputs": [],
   "source": []
  },
  {
   "cell_type": "code",
   "execution_count": null,
   "metadata": {},
   "outputs": [],
   "source": []
  },
  {
   "cell_type": "code",
   "execution_count": null,
   "metadata": {},
   "outputs": [],
   "source": []
  },
  {
   "cell_type": "code",
   "execution_count": null,
   "metadata": {},
   "outputs": [],
   "source": []
  },
  {
   "cell_type": "code",
   "execution_count": null,
   "metadata": {},
   "outputs": [],
   "source": []
  },
  {
   "cell_type": "code",
   "execution_count": null,
   "metadata": {},
   "outputs": [],
   "source": []
  },
  {
   "cell_type": "code",
   "execution_count": null,
   "metadata": {},
   "outputs": [],
   "source": []
  }
 ],
 "metadata": {
  "kernelspec": {
   "display_name": "Python 3",
   "language": "python",
   "name": "python3"
  },
  "language_info": {
   "codemirror_mode": {
    "name": "ipython",
    "version": 3
   },
   "file_extension": ".py",
   "mimetype": "text/x-python",
   "name": "python",
   "nbconvert_exporter": "python",
   "pygments_lexer": "ipython3",
   "version": "3.7.6"
  }
 },
 "nbformat": 4,
 "nbformat_minor": 4
}
