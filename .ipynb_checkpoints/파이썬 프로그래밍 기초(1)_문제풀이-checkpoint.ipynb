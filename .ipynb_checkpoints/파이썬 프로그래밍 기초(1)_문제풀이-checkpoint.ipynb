{
 "cells": [
  {
   "cell_type": "code",
   "execution_count": null,
   "metadata": {},
   "outputs": [],
   "source": [
    "#6206. [파이썬 프로그래밍 기초(1) 파이썬의 기본 구조와 기초 문법] 5. 연산자 2 D1 \n",
    "\n",
    "x = int(input())\n",
    "y = round(x * 2.2046,2)\n",
    "print('%0.2f kg =>  %0.2f lb'%(x,y))"
   ]
  },
  {
   "cell_type": "code",
   "execution_count": null,
   "metadata": {},
   "outputs": [],
   "source": [
    "#6207. [파이썬 프로그래밍 기초(1) 파이썬의 기본 구조와 기초 문법] 5. 연산자 3 D1 \n",
    "#1\n",
    "x = int(input())\n",
    "y = (82.40 / 28.00) * x\n",
    "print('%0.2f ℃ =>  %0.2f ℉'%(x,y))\n",
    "\n",
    "#2\n",
    "x=float(input())\n",
    "print(\"%0.2f ℃ =>  %0.2f ℉\"% (x,x*206/70))"
   ]
  },
  {
   "cell_type": "code",
   "execution_count": null,
   "metadata": {},
   "outputs": [],
   "source": [
    "#6209. [파이썬 프로그래밍 기초(1) 파이썬의 기본 구조와 기초 문법] 5. 연산자 4 D1\n",
    "\n",
    "x = int(input())\n",
    "y = (27.78 / 82.00) * x\n",
    "print('%0.2f ℉ =>  %0.2f ℃'%(x,y))"
   ]
  },
  {
   "cell_type": "code",
   "execution_count": null,
   "metadata": {},
   "outputs": [],
   "source": [
    "#6216. [파이썬 프로그래밍 기초(1) 파이썬의 기본 구조와 기초 문법] 5. 연산자 5 D1 \n",
    "x_1 = 100\n",
    "x_2 = 20\n",
    "y_1 = 200\n",
    "y_2 = 0\n",
    "z = ((x_2 + y_2) / (x_1 + y_1)) * 100\n",
    "print('혼합된 소금물의 농도: {}%'.format(round(z,2)))"
   ]
  },
  {
   "cell_type": "code",
   "execution_count": null,
   "metadata": {},
   "outputs": [],
   "source": [
    "#6218. [파이썬 프로그래밍 기초(1) 파이썬의 기본 구조와 기초 문법] 6. 흐름과 제어 - If 1 D1\n",
    "\n",
    "x = int(input())\n",
    "for i in range(1,x+1):\n",
    "    if x % i == 0:\n",
    "        print('{}(은)는 {}의 약수입니다.'.format(i,x))"
   ]
  },
  {
   "cell_type": "code",
   "execution_count": null,
   "metadata": {},
   "outputs": [],
   "source": [
    "#6219. [파이썬 프로그래밍 기초(1) 파이썬의 기본 구조와 기초 문법] 6. 흐름과 제어 - If 2 D1 \n",
    "\n",
    "x = int(input())\n",
    "cnt = 0\n",
    "for i in range(1,x+1):\n",
    "    if x % i == 0:\n",
    "        cnt += 1\n",
    "        print('{}(은)는 {}의 약수입니다.'.format(i,x))\n",
    "if cnt == 2:\n",
    "    print('{}(은)는 1과 {}로만 나눌 수 있는 소수입니다.'.format(x,x))\n",
    "        "
   ]
  },
  {
   "cell_type": "code",
   "execution_count": null,
   "metadata": {},
   "outputs": [],
   "source": [
    "#6220. [파이썬 프로그래밍 기초(1) 파이썬의 기본 구조와 기초 문법] 6. 흐름과 제어 - If 3 \n",
    "\n",
    "x = input()\n",
    "if x.lower():\n",
    "    print('{} 는 소문자 입니다.'.format(x))"
   ]
  },
  {
   "cell_type": "code",
   "execution_count": 2,
   "metadata": {},
   "outputs": [
    {
     "name": "stdout",
     "output_type": "stream",
     "text": [
      "바위\n",
      "가위\n",
      "Result : Man1 Win!\n"
     ]
    }
   ],
   "source": [
    "#6221. [파이썬 프로그래밍 기초(1) 파이썬의 기본 구조와 기초 문법] 6. 흐름과 제어 - If 4 D1\n",
    "\n",
    "Man1 = input()\n",
    "Man2 = input()\n",
    "if Man1 == '가위':\n",
    "    if Man2 == '가위':\n",
    "        print('Result : Draw')\n",
    "    elif Man2 == '바위':\n",
    "        print('Result : Man2 Win!')\n",
    "    else:\n",
    "        pirnt('Result : Man1 Win!')\n",
    "elif Man1 == '바위':\n",
    "    if Man2 == '가위':\n",
    "        print('Result : Man1 Win!')\n",
    "    elif Man2 == '바위':\n",
    "        print('Result : Draw')\n",
    "    else:\n",
    "        print('Result : Man2 Win!')\n",
    "else:\n",
    "    if Man2 == '가위':\n",
    "        print('Result : Man2 Win!')\n",
    "    elif Man2 == '바위':\n",
    "        print('Result : Man1 Win!')\n",
    "    else:\n",
    "        print('Result : Draw') "
   ]
  },
  {
   "cell_type": "code",
   "execution_count": 4,
   "metadata": {},
   "outputs": [
    {
     "name": "stdout",
     "output_type": "stream",
     "text": [
      "c\n",
      "c(ASCII:99) => C(ASCII:67)\n"
     ]
    }
   ],
   "source": [
    "#6222. [파이썬 프로그래밍 기초(1) 파이썬의 기본 구조와 기초 문법] 6. 흐름과 제어 - If 5\n",
    "#ASCII 코드 번호 ==> ord(a)\n",
    "x = input()\n",
    "\n",
    "if x.lower():\n",
    "    result = x.upper()\n",
    "elif x.upper():\n",
    "    result = x.lower()\n",
    "else:\n",
    "    result = x\n",
    "print('{}(ASCII:{}) => {}(ASCII:{})'.format(x, ord(x), result, ord(result)))"
   ]
  },
  {
   "cell_type": "code",
   "execution_count": 8,
   "metadata": {},
   "outputs": [
    {
     "name": "stdout",
     "output_type": "stream",
     "text": [
      "7,14,21,28,42,49,56,63,77,84,91,98,112,119,126,133,147,154,161,168,182,189,196\n"
     ]
    }
   ],
   "source": [
    "#6226. [파이썬 프로그래밍 기초(1) 파이썬의 기본 구조와 기초 문법] 6. 흐름과 제어 - If 7 D1\n",
    "#1~200 사이의 정수 가운데 7의 배수이면서 5의 배수는 아닌 모든 숫자들을 찾아\n",
    "#콤마(,)로 구분된 문자열을 구성해 출력하는 프로그램을 작성하십시오.\n",
    "#중간중간 , 로 구분하고 싶으면 .join함수// end =','는 마지막 값 뒤에도 ,나옴\n",
    "\n",
    "lst = []\n",
    "for i in range(1,201):\n",
    "    if i % 7 == 0 and i % 5 != 0:\n",
    "        lst.append(i)\n",
    "print(','.join(map(str,lst)))\n"
   ]
  },
  {
   "cell_type": "code",
   "execution_count": 16,
   "metadata": {},
   "outputs": [
    {
     "ename": "SyntaxError",
     "evalue": "invalid syntax (<ipython-input-16-9ccf7c3e3a52>, line 5)",
     "output_type": "error",
     "traceback": [
      "\u001b[1;36m  File \u001b[1;32m\"<ipython-input-16-9ccf7c3e3a52>\"\u001b[1;36m, line \u001b[1;32m5\u001b[0m\n\u001b[1;33m    if i = str(i):\u001b[0m\n\u001b[1;37m         ^\u001b[0m\n\u001b[1;31mSyntaxError\u001b[0m\u001b[1;31m:\u001b[0m invalid syntax\n"
     ]
    }
   ],
   "source": [
    "#6227. [파이썬 프로그래밍 기초(1) 파이썬의 기본 구조와 기초 문법] 6. 흐름과 제어 - If 8\n",
    "#100~300 사이의 숫자에서 각각의 자리 숫자가 짝수인 숫자를 찾아 콤마(,)로 구분해 출력하는 프로그램을 작성하십시오.\n",
    "lst = []\n",
    "for i in range(100,301):\n",
    "    "
   ]
  },
  {
   "cell_type": "code",
   "execution_count": null,
   "metadata": {},
   "outputs": [],
   "source": []
  },
  {
   "cell_type": "code",
   "execution_count": null,
   "metadata": {},
   "outputs": [],
   "source": []
  },
  {
   "cell_type": "code",
   "execution_count": null,
   "metadata": {},
   "outputs": [],
   "source": []
  },
  {
   "cell_type": "code",
   "execution_count": null,
   "metadata": {},
   "outputs": [],
   "source": []
  }
 ],
 "metadata": {
  "kernelspec": {
   "display_name": "Python 3",
   "language": "python",
   "name": "python3"
  },
  "language_info": {
   "codemirror_mode": {
    "name": "ipython",
    "version": 3
   },
   "file_extension": ".py",
   "mimetype": "text/x-python",
   "name": "python",
   "nbconvert_exporter": "python",
   "pygments_lexer": "ipython3",
   "version": "3.7.6"
  }
 },
 "nbformat": 4,
 "nbformat_minor": 4
}
