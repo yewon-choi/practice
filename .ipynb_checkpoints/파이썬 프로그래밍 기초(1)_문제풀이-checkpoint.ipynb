{
 "cells": [
  {
   "cell_type": "code",
   "execution_count": null,
   "metadata": {},
   "outputs": [],
   "source": [
    "#6206. [파이썬 프로그래밍 기초(1) 파이썬의 기본 구조와 기초 문법] 5. 연산자 2 D1 \n",
    "\n",
    "x = int(input())\n",
    "y = round(x * 2.2046,2)\n",
    "print('%0.2f kg =>  %0.2f lb'%(x,y))"
   ]
  },
  {
   "cell_type": "code",
   "execution_count": null,
   "metadata": {},
   "outputs": [],
   "source": [
    "#6207. [파이썬 프로그래밍 기초(1) 파이썬의 기본 구조와 기초 문법] 5. 연산자 3 D1 \n",
    "#1\n",
    "x = int(input())\n",
    "y = (82.40 / 28.00) * x\n",
    "print('%0.2f ℃ =>  %0.2f ℉'%(x,y))\n",
    "\n",
    "#2\n",
    "x=float(input())\n",
    "print(\"%0.2f ℃ =>  %0.2f ℉\"% (x,x*206/70))"
   ]
  },
  {
   "cell_type": "code",
   "execution_count": null,
   "metadata": {},
   "outputs": [],
   "source": [
    "#6209. [파이썬 프로그래밍 기초(1) 파이썬의 기본 구조와 기초 문법] 5. 연산자 4 D1\n",
    "\n",
    "x = int(input())\n",
    "y = (27.78 / 82.00) * x\n",
    "print('%0.2f ℉ =>  %0.2f ℃'%(x,y))"
   ]
  },
  {
   "cell_type": "code",
   "execution_count": null,
   "metadata": {},
   "outputs": [],
   "source": [
    "#6216. [파이썬 프로그래밍 기초(1) 파이썬의 기본 구조와 기초 문법] 5. 연산자 5 D1 \n",
    "x_1 = 100\n",
    "x_2 = 20\n",
    "y_1 = 200\n",
    "y_2 = 0\n",
    "z = ((x_2 + y_2) / (x_1 + y_1)) * 100\n",
    "print('혼합된 소금물의 농도: {}%'.format(round(z,2)))"
   ]
  },
  {
   "cell_type": "code",
   "execution_count": null,
   "metadata": {},
   "outputs": [],
   "source": [
    "#6218. [파이썬 프로그래밍 기초(1) 파이썬의 기본 구조와 기초 문법] 6. 흐름과 제어 - If 1 D1\n",
    "\n",
    "x = int(input())\n",
    "for i in range(1,x+1):\n",
    "    if x % i == 0:\n",
    "        print('{}(은)는 {}의 약수입니다.'.format(i,x))"
   ]
  },
  {
   "cell_type": "code",
   "execution_count": null,
   "metadata": {},
   "outputs": [],
   "source": [
    "#6219. [파이썬 프로그래밍 기초(1) 파이썬의 기본 구조와 기초 문법] 6. 흐름과 제어 - If 2 D1 \n",
    "\n",
    "x = int(input())\n",
    "cnt = 0\n",
    "for i in range(1,x+1):\n",
    "    if x % i == 0:\n",
    "        cnt += 1\n",
    "        print('{}(은)는 {}의 약수입니다.'.format(i,x))\n",
    "if cnt == 2:\n",
    "    print('{}(은)는 1과 {}로만 나눌 수 있는 소수입니다.'.format(x,x))\n",
    "        "
   ]
  },
  {
   "cell_type": "code",
   "execution_count": null,
   "metadata": {},
   "outputs": [],
   "source": [
    "#6220. [파이썬 프로그래밍 기초(1) 파이썬의 기본 구조와 기초 문법] 6. 흐름과 제어 - If 3 \n",
    "\n",
    "x = input()\n",
    "if x.lower():\n",
    "    print('{} 는 소문자 입니다.'.format(x))"
   ]
  },
  {
   "cell_type": "code",
   "execution_count": null,
   "metadata": {},
   "outputs": [],
   "source": [
    "#6221. [파이썬 프로그래밍 기초(1) 파이썬의 기본 구조와 기초 문법] 6. 흐름과 제어 - If 4 D1\n",
    "\n",
    "Man1 = input()\n",
    "Man2 = input()\n",
    "if Man1 == '가위':\n",
    "    if Man2 == '가위':\n",
    "        print('Result : Draw')\n",
    "    elif Man2 == '바위':\n",
    "        print('Result : Man2 Win!')\n",
    "    else:\n",
    "        pirnt('Result : Man1 Win!')\n",
    "elif Man1 == '바위':\n",
    "    if Man2 == '가위':\n",
    "        print('Result : Man1 Win!')\n",
    "    elif Man2 == '바위':\n",
    "        print('Result : Draw')\n",
    "    else:\n",
    "        print('Result : Man2 Win!')\n",
    "else:\n",
    "    if Man2 == '가위':\n",
    "        print('Result : Man2 Win!')\n",
    "    elif Man2 == '바위':\n",
    "        print('Result : Man1 Win!')\n",
    "    else:\n",
    "        print('Result : Draw') "
   ]
  },
  {
   "cell_type": "code",
   "execution_count": null,
   "metadata": {},
   "outputs": [],
   "source": [
    "#6222. [파이썬 프로그래밍 기초(1) 파이썬의 기본 구조와 기초 문법] 6. 흐름과 제어 - If 5\n",
    "#ASCII 코드 번호 ==> ord(a)\n",
    "x = input()\n",
    "\n",
    "if x.lower():\n",
    "    result = x.upper()\n",
    "elif x.upper():\n",
    "    result = x.lower()\n",
    "else:\n",
    "    result = x\n",
    "print('{}(ASCII:{}) => {}(ASCII:{})'.format(x, ord(x), result, ord(result)))"
   ]
  },
  {
   "cell_type": "code",
   "execution_count": null,
   "metadata": {},
   "outputs": [],
   "source": [
    "#6226. [파이썬 프로그래밍 기초(1) 파이썬의 기본 구조와 기초 문법] 6. 흐름과 제어 - If 7 D1\n",
    "#1~200 사이의 정수 가운데 7의 배수이면서 5의 배수는 아닌 모든 숫자들을 찾아\n",
    "#콤마(,)로 구분된 문자열을 구성해 출력하는 프로그램을 작성하십시오.\n",
    "#중간중간 , 로 구분하고 싶으면 .join함수// end =','는 마지막 값 뒤에도 ,나옴\n",
    "\n",
    "lst = []\n",
    "for i in range(1,201):\n",
    "    if i % 7 == 0 and i % 5 != 0:\n",
    "        lst.append(i)\n",
    "print(','.join(map(str,lst)))\n"
   ]
  },
  {
   "cell_type": "code",
   "execution_count": null,
   "metadata": {},
   "outputs": [],
   "source": [
    "#6227. [파이썬 프로그래밍 기초(1) 파이썬의 기본 구조와 기초 문법] 6. 흐름과 제어 - If 8\n",
    "#100~300 사이의 숫자에서 각각의 자리 숫자가 짝수인 숫자를 찾아 콤마(,)로 구분해 출력하는 프로그램을 작성하십시오.\n",
    "lst = []\n",
    "lst2 = []\n",
    "num = ''\n",
    "for i in range(100,301):\n",
    "    j = list(str(i))\n",
    "    if int(j[0]) % 2 == 0 and int(j[1]) % 2 == 0 and int(j[2]) % 2 == 0:\n",
    "        lst.append(j)\n",
    "for i in range(len(lst)):\n",
    "    num = ''\n",
    "    for j in range(3):\n",
    "        num += lst[i][j]\n",
    "    lst2.append(int(num))\n",
    "print(','.join(map(str,lst2)))"
   ]
  },
  {
   "cell_type": "code",
   "execution_count": null,
   "metadata": {},
   "outputs": [],
   "source": [
    "#6230. [파이썬 프로그래밍 기초(1) 파이썬의 기본 구조와 기초 문법] 7. 흐름과 제어 - 반복 1 D1\n",
    "#다음의 결과와 같이 5명의 학생의 점수에 대해 60 이상일 때 합격 메시지를 출력하고,\n",
    "#60미만일 때 불합격 메시지를 출력하는 프로그램을 만드십시오.\n",
    "\n",
    "students = {1 : 88, 2 : 30, 3 : 61, 4 : 55, 5 : 95}\n",
    "for key, value in students.items():\n",
    "    if value >= 60:\n",
    "        print('{}번 학생은 {}점으로 합격입니다.'.format(key,value))\n",
    "    else:\n",
    "        print('{}번 학생은 {}점으로 불합격입니다.'.format(key,value))\n"
   ]
  },
  {
   "cell_type": "code",
   "execution_count": null,
   "metadata": {},
   "outputs": [],
   "source": [
    "#6234. [파이썬 프로그래밍 기초(1) 파이썬의 기본 구조와 기초 문법] 7. 흐름과 제어 - 반복 3 D1\n",
    "#1부터 100사이의 숫자 중 짝수를 for 문을 이용해 다음과 같이 출력하십시오.\n",
    "\n",
    "for i in range(1,101):\n",
    "    if i % 2 == 0:\n",
    "        print(i, end =' ')"
   ]
  },
  {
   "cell_type": "code",
   "execution_count": null,
   "metadata": {},
   "outputs": [],
   "source": [
    "lst = []\n",
    "for j in range(1,101):\n",
    "    if j % 2 != 0:\n",
    "       lst.append(j) \n",
    "print(', '.join(map(str, lst)))"
   ]
  },
  {
   "cell_type": "code",
   "execution_count": null,
   "metadata": {},
   "outputs": [],
   "source": [
    "sum = 0\n",
    "for i in range(1,101):\n",
    "    if i % 3 == 0:\n",
    "        sum += i\n",
    "print('1부터 100사이의 숫자 중 3의 배수의 총합: {}'.format(sum))"
   ]
  },
  {
   "cell_type": "code",
   "execution_count": null,
   "metadata": {},
   "outputs": [],
   "source": [
    "#6242. [파이썬 프로그래밍 기초(1) 파이썬의 기본 구조와 기초 문법] 7. 흐름과 제어 - 반복 6 D1\n",
    "#다음은 10명의 학생들의 혈액형(A, B, AB, O) 데이터입니다.\n",
    "#['A', 'A', 'A', 'O', 'B', 'B', 'O', 'AB', 'AB', 'O']\n",
    "#for 문을 이용하여 각 혈액형 별 학생수를 구하십시오.\n",
    "\n",
    "lst = ['A', 'A', 'A', 'O', 'B', 'B', 'O', 'AB', 'AB', 'O']\n",
    "find = {'A': 0, 'O': 0, 'B': 0, 'AB': 0}\n",
    "for i in lst:\n",
    "    if i == 'A':\n",
    "        find[i] += 1\n",
    "    elif i == 'O':\n",
    "        find[i] += 1\n",
    "    elif i == 'B':\n",
    "        find[i] += 1\n",
    "    else:\n",
    "        find[i] += 1\n",
    "print(find)"
   ]
  },
  {
   "cell_type": "code",
   "execution_count": null,
   "metadata": {},
   "outputs": [],
   "source": [
    "lst = [85, 65, 77, 83, 75, 22, 98, 88, 38, 100]\n",
    "total = 0\n",
    "while len(lst) > 0:\n",
    "    if lst[-1] >= 80:\n",
    "        total += lst.pop()\n",
    "    else:\n",
    "        lst.pop()\n",
    "print(total)"
   ]
  },
  {
   "cell_type": "code",
   "execution_count": null,
   "metadata": {},
   "outputs": [],
   "source": [
    "#6246. [파이썬 프로그래밍 기초(1) 파이썬의 기본 구조와 기초 문법] 7. 흐름과 제어 - 반복 8 D1\n",
    "#while문을 이용해 아래와 같이 별(*)을 표시하는 프로그램을 만드십시오.\n",
    "i = 5\n",
    "while i > 0:\n",
    "    print('*'*i)\n",
    "    i -= 1"
   ]
  },
  {
   "cell_type": "code",
   "execution_count": null,
   "metadata": {},
   "outputs": [],
   "source": [
    "#6247. [파이썬 프로그래밍 기초(1) 파이썬의 기본 구조와 기초 문법] 7. 흐름과 제어 - 반복 9 D1\n",
    "#while문을 이용해 아래와 같이 별(*)을 표시하는 프로그램을 만드십시오.\n",
    "\n",
    "# i, j = 0, 7\n",
    "# while i < 4 and j > 0:\n",
    "#     print(' '*i,'*'*j)\n",
    "#     i += 1\n",
    "#     j -= 2\n",
    "    \n",
    "i = 4\n",
    "while i > 0:\n",
    "    j = 0\n",
    "    k = 4-i\n",
    "    while k > 0:\n",
    "        k -= 1\n",
    "        print(' ', end='')\n",
    "    while j < i*2-1:\n",
    "        print('*', end='')\n",
    "        j += 1\n",
    "    print()\n",
    "    i -= 1"
   ]
  },
  {
   "cell_type": "code",
   "execution_count": null,
   "metadata": {},
   "outputs": [],
   "source": [
    "#6249. [파이썬 프로그래밍 기초(1) 파이썬의 기본 구조와 기초 문법] 7. 흐름과 제어 - 반복 10 D1\n",
    "#다음의 결과와 같이 어떤 한 양의 정수를 입력하여 그 숫자에 0~9가 몇 번 사용되었는지 표시하십시오.\n",
    "\n",
    "# lst = {0:0,1:0,2:0,3:0,4:0,5:0,6:0,7:0,8:0,9:0}\n",
    "# x = input()\n",
    "# for i in x:\n",
    "#     lst[int(i)] += 1\n",
    "# for key, value in lst.items():\n",
    "#     print(key, end = ' ')\n",
    "# print()\n",
    "# for key, value in lst.items():\n",
    "#     print(value, end =' ')\n",
    "    \n",
    "a = input()\n",
    "list1 = ['0', '1', '2', '3', '4', '5', '6', '7', '8', '9']\n",
    "list2 = ['0', '0', '0', '0', '0', '0', '0', '0', '0', '0']\n",
    "\n",
    "for i in range(10):\n",
    "    for j in range(len(a)):\n",
    "        if(a[j]==list1[i]):\n",
    "            list2[i] = str(int(list2[i]) + 1)\n",
    "\n",
    "print(' '.join((list1)))\n",
    "print(' '.join((list2)))"
   ]
  },
  {
   "cell_type": "code",
   "execution_count": null,
   "metadata": {},
   "outputs": [],
   "source": [
    "#6251. [파이썬 프로그래밍 기초(1) 파이썬의 기본 구조와 기초 문법] 7. 흐름과 제어 - 반복 11\n",
    "\n",
    "for i in range(5):\n",
    "    for j in range(4-i):\n",
    "        print(' ', end ='')\n",
    "    for k in range(1+i):\n",
    "        print('*', end ='')\n",
    "    print()"
   ]
  },
  {
   "cell_type": "code",
   "execution_count": null,
   "metadata": {},
   "outputs": [],
   "source": [
    "#6253. [파이썬 프로그래밍 기초(1) 파이썬의 기본 구조와 기초 문법] 7. 흐름과 제어 - 반복 13 D1\n",
    "#10진수를 2진수로 바꾸기\n",
    "\n",
    "a = int(input())\n",
    "lst = []\n",
    "result =[]\n",
    "while a > 1:\n",
    "    lst.append(a % 2)\n",
    "    a = a //2\n",
    "lst.append(a)\n",
    "while len(lst) != 0:\n",
    "    result.append(lst.pop())\n",
    "print(''.join(map(str,result)))"
   ]
  },
  {
   "cell_type": "code",
   "execution_count": 6,
   "metadata": {},
   "outputs": [
    {
     "name": "stdout",
     "output_type": "stream",
     "text": [
      "eye\n",
      "eye\n",
      "입력하신 단어는 회문(Palindrome)입니다.\n"
     ]
    }
   ],
   "source": [
    "#6319. [파이썬 프로그래밍 기초(1) 파이썬의 기본 구조와 기초 문법] 8. 함수의 기초 1 D1\n",
    "\n",
    "word = input()\n",
    "for i in range(len(word)):\n",
    "    if word[i] == word[-1]:\n",
    "        pass\n",
    "print(word)\n",
    "print('입력하신 단어는 회문(Palindrome)입니다.')"
   ]
  },
  {
   "cell_type": "code",
   "execution_count": 8,
   "metadata": {},
   "outputs": [
    {
     "name": "stdout",
     "output_type": "stream",
     "text": [
      "홍길동\n",
      "이순신\n",
      "가위\n",
      "바위\n",
      "바위가 이겼습니다!\n"
     ]
    }
   ],
   "source": [
    "#6320. [파이썬 프로그래밍 기초(1) 파이썬의 기본 구조와 기초 문법] 8. 함수의 기초 2 D1\n",
    "x = input()\n",
    "y = input()\n",
    "x_1 = input()\n",
    "y_1 = input()\n",
    "\n",
    "if x_1 == '가위' :\n",
    "    if y_1 == '바위':\n",
    "        print('바위가 이겼습니다!')\n"
   ]
  },
  {
   "cell_type": "code",
   "execution_count": 3,
   "metadata": {},
   "outputs": [
    {
     "name": "stdout",
     "output_type": "stream",
     "text": [
      "13\n",
      "소수입니다.\n"
     ]
    }
   ],
   "source": [
    "#6321. [파이썬 프로그래밍 기초(1) 파이썬의 기본 구조와 기초 문법] 8. 함수의 기초 3 D1\n",
    "\n",
    "x = int(input())\n",
    "for i in range(2, x):\n",
    "    if x % i != 0:\n",
    "        print('소수입니다.')\n",
    "        break\n",
    "    else:\n",
    "        print('소수가 아닙니다.')"
   ]
  },
  {
   "cell_type": "code",
   "execution_count": 6,
   "metadata": {},
   "outputs": [
    {
     "name": "stdout",
     "output_type": "stream",
     "text": [
      "10\n",
      "[1, 1, 2, 3, 5, 8, 13, 21, 34, 55]\n"
     ]
    }
   ],
   "source": [
    "#6323. [파이썬 프로그래밍 기초(1) 파이썬의 기본 구조와 기초 문법] 8. 함수의 기초 4 D1\n",
    "#피보나치수열 _ fibo\n",
    "\n",
    "def fibo(n):\n",
    "    if n == 0 :\n",
    "        return 1\n",
    "    elif n == 1:\n",
    "        return 1\n",
    "    else:\n",
    "        return fibo(n-1) + fibo(n-2)\n",
    "    \n",
    "x = int(input())\n",
    "lst = []\n",
    "for i in range(x):\n",
    "    lst.append(fibo(i))\n",
    "print(lst)"
   ]
  },
  {
   "cell_type": "code",
   "execution_count": 9,
   "metadata": {},
   "outputs": [
    {
     "name": "stdout",
     "output_type": "stream",
     "text": [
      "[1, 2, 3, 4, 3, 2, 1]\n",
      "[1, 2, 3, 4]\n"
     ]
    }
   ],
   "source": [
    "#6324. [파이썬 프로그래밍 기초(1) 파이썬의 기본 구조와 기초 문법] 8. 함수의 기초 5 \n",
    "\n",
    "lst = [1, 2, 3, 4, 3, 2, 1]\n",
    "result = []\n",
    "for i in lst:\n",
    "    if i not in result:\n",
    "        result.append(i)\n",
    "print(lst)\n",
    "print(result)"
   ]
  },
  {
   "cell_type": "code",
   "execution_count": 14,
   "metadata": {},
   "outputs": [
    {
     "name": "stdout",
     "output_type": "stream",
     "text": [
      "[2, 4, 6, 8, 10]\n",
      "5 => False\n",
      "10 => True\n"
     ]
    }
   ],
   "source": [
    "#6325. [파이썬 프로그래밍 기초(1) 파이썬의 기본 구조와 기초 문법] 8. 함수의 기초 6\n",
    "\n",
    "lst = [2, 4, 6, 8, 10]\n",
    "print(lst)\n",
    "\n",
    "i, j = 5, 10\n",
    "if i not in lst:\n",
    "    print('{} => False'.format(i))\n",
    "if j in lst:\n",
    "    print('{} => True'.format(j))"
   ]
  },
  {
   "cell_type": "code",
   "execution_count": 16,
   "metadata": {},
   "outputs": [
    {
     "name": "stdout",
     "output_type": "stream",
     "text": [
      "5\n",
      "120\n"
     ]
    }
   ],
   "source": [
    "#6326. [파이썬 프로그래밍 기초(1) 파이썬의 기본 구조와 기초 문법] 8. 함수의 기초 7\n",
    "\n",
    "x = int(input())\n",
    "result = 1\n",
    "for i in range(x):\n",
    "    result = result * (x-i)\n",
    "print(result)"
   ]
  },
  {
   "cell_type": "code",
   "execution_count": 20,
   "metadata": {},
   "outputs": [
    {
     "name": "stdout",
     "output_type": "stream",
     "text": [
      "2, 3\n",
      "square(2) => 4\n",
      "square(3) => 9\n"
     ]
    }
   ],
   "source": [
    "#6327. [파이썬 프로그래밍 기초(1) 파이썬의 기본 구조와 기초 문법] 8. 함수의 기초 8\n",
    "nums = list(map(int, input().split(',')))\n",
    "\n",
    "for i in range(len(nums)):\n",
    "    print('square({}) => {}'.format(nums[i], nums[i]*nums[i]))"
   ]
  },
  {
   "cell_type": "code",
   "execution_count": 28,
   "metadata": {},
   "outputs": [
    {
     "name": "stdout",
     "output_type": "stream",
     "text": [
      "one, two\n",
      " two\n"
     ]
    }
   ],
   "source": [
    "#6328. [파이썬 프로그래밍 기초(1) 파이썬의 기본 구조와 기초 문법] 8. 함수의 기초 9 \n",
    "\n",
    "a, b = input().split(',')\n",
    "def squ(a, b):\n",
    "    if (len(a)> len(b)):\n",
    "        print(a)\n",
    "    else:\n",
    "        print(b)\n",
    "squ(a, b)"
   ]
  },
  {
   "cell_type": "code",
   "execution_count": 30,
   "metadata": {},
   "outputs": [
    {
     "name": "stdout",
     "output_type": "stream",
     "text": [
      "카운트다운을 하려면 0보다 큰 입력이 필요합니다.\n",
      "10\n",
      "9\n",
      "8\n",
      "7\n",
      "6\n",
      "5\n",
      "4\n",
      "3\n",
      "2\n",
      "1\n"
     ]
    }
   ],
   "source": [
    "#6329. [파이썬 프로그래밍 기초(1) 파이썬의 기본 구조와 기초 문법] 8. 함수의 기초 10 \n",
    "i = 0\n",
    "if i ==0:\n",
    "    print('카운트다운을 하려면 0보다 큰 입력이 필요합니다.')\n",
    "    for j in range(10,0,-1):\n",
    "        print(j)"
   ]
  },
  {
   "cell_type": "code",
   "execution_count": 45,
   "metadata": {},
   "outputs": [
    {
     "name": "stdout",
     "output_type": "stream",
     "text": [
      "홍길동\n",
      "20\n",
      "2099\n",
      "홍길동(은)는 2099년에 100세가 될 것입니다.\n"
     ]
    }
   ],
   "source": [
    "#6308. [파이썬 프로그래밍 기초(1) 파이썬의 기본 구조와 기초 문법] 9. 내장함수 1 \n",
    "import datetime\n",
    "now = datetime.datetime.now()\n",
    "\n",
    "name = input()\n",
    "age = int(input())\n",
    "yearr = now.year + (100- age -1)\n",
    "print('{}(은)는 {}년에 100세가 될 것입니다.'.format(name, yearr))\n",
    "\n"
   ]
  },
  {
   "cell_type": "code",
   "execution_count": 50,
   "metadata": {},
   "outputs": [
    {
     "name": "stdout",
     "output_type": "stream",
     "text": [
      "184\n"
     ]
    }
   ],
   "source": [
    "#6311. [파이썬 프로그래밍 기초(1) 파이썬의 기본 구조와 기초 문법] 9. 내장함수 4\n",
    "\n",
    "#방법1\n",
    "# words = list(input())\n",
    "# score = 0\n",
    "# for word in words:\n",
    "#     if word == 'A':\n",
    "#         score += 4\n",
    "#     elif word == 'B':\n",
    "#         score += 3\n",
    "#     elif word == 'C':\n",
    "#         score += 2\n",
    "#     elif word == 'D':\n",
    "#         score += 1\n",
    "# print(score)\n",
    "\n",
    "#방법2\n",
    "words = \"ADCBBBBCABBCBDACBDCAACDDDCAABABDBCBCBDBDBDDABBAAAAAAADADBDBCBDABADCADC\"\n",
    "\n",
    "list_A = list(map(lambda x : (x == 'A')*4 , words))\n",
    "list_B = list(map(lambda x : (x == 'B')*3 , words))\n",
    "list_C = list(map(lambda x : (x == 'C')*2 , words))\n",
    "list_D = list(map(lambda x : (x == 'D')*1 , words))\n",
    "\n",
    "print(sum(list_A) + sum(list_B) + sum(list_C) + sum(list_D))"
   ]
  },
  {
   "cell_type": "code",
   "execution_count": 56,
   "metadata": {},
   "outputs": [
    {
     "name": "stdout",
     "output_type": "stream",
     "text": [
      "에러발생\n"
     ]
    }
   ],
   "source": [
    "#6312. [파이썬 프로그래밍 기초(1) 파이썬의 기본 구조와 기초 문법] 9. 내장함수 5\n",
    "\n",
    "x = [1,2,'4',3]\n",
    "result = 1\n",
    "for i in x:\n",
    "    if type(i) != int:\n",
    "        result = '에러발생'\n",
    "        break\n",
    "    else:\n",
    "        result = result * i\n",
    "print(result)"
   ]
  },
  {
   "cell_type": "code",
   "execution_count": 58,
   "metadata": {},
   "outputs": [
    {
     "name": "stdout",
     "output_type": "stream",
     "text": [
      "65\n",
      "ASCII 65 => A\n"
     ]
    }
   ],
   "source": [
    "#6313. [파이썬 프로그래밍 기초(1) 파이썬의 기본 구조와 기초 문법] 9. 내장함수 6\n",
    "\n",
    "num = int(input())\n",
    "result = chr(num)\n",
    "print('ASCII {} => {}'.format(num,result))"
   ]
  },
  {
   "cell_type": "code",
   "execution_count": 63,
   "metadata": {},
   "outputs": [
    {
     "name": "stdout",
     "output_type": "stream",
     "text": [
      "[2, 4, 6, 8, 10]\n"
     ]
    }
   ],
   "source": [
    "#6314. [파이썬 프로그래밍 기초(1) 파이썬의 기본 구조와 기초 문법] 9. 내장함수 7\n",
    "\n",
    "x = [1,2,3,4,5,6,7,8,9,10]\n",
    "def even(x):\n",
    "    return(x % 2 == 0)\n",
    "lst = list(filter(even,x))\n",
    "print(lst)"
   ]
  },
  {
   "cell_type": "code",
   "execution_count": 70,
   "metadata": {},
   "outputs": [
    {
     "name": "stdout",
     "output_type": "stream",
     "text": [
      "[1, 4, 9, 16, 25, 36, 49, 64, 81, 100]\n"
     ]
    }
   ],
   "source": [
    "#6315. [파이썬 프로그래밍 기초(1) 파이썬의 기본 구조와 기초 문법] 9. 내장함수 8 \n",
    "\n",
    "num = [1,2,3,4,5,6,7,8,9,10]\n",
    "lst = list(map(lambda x : int(x**2), num))\n",
    "print(lst)"
   ]
  },
  {
   "cell_type": "code",
   "execution_count": 72,
   "metadata": {},
   "outputs": [
    {
     "name": "stdout",
     "output_type": "stream",
     "text": [
      "[4, 16, 36, 64, 100]\n"
     ]
    }
   ],
   "source": [
    "#6316. [파이썬 프로그래밍 기초(1) 파이썬의 기본 구조와 기초 문법] 9. 내장함수 9\n",
    "\n",
    "num = [1,2,3,4,5,6,7,8,9,10]\n",
    "def even(num):\n",
    "    return num % 2 == 0\n",
    "lst = list(filter(even,num))\n",
    "\n",
    "result = list(map(lambda x : x**2, lst))\n",
    "print(result)\n",
    "    "
   ]
  },
  {
   "cell_type": "code",
   "execution_count": 74,
   "metadata": {},
   "outputs": [
    {
     "name": "stdout",
     "output_type": "stream",
     "text": [
      "max(3, 5, 4, 1, 8, 10, 2) => 10\n"
     ]
    }
   ],
   "source": [
    "#6317. [파이썬 프로그래밍 기초(1) 파이썬의 기본 구조와 기초 문법] 9. 내장함수 10\n",
    "\n",
    "lst = (3, 5, 4, 1, 8, 10, 2)\n",
    "max_lst = max(lst)\n",
    "print('max{} => {}'.format(lst,max_lst))"
   ]
  },
  {
   "cell_type": "code",
   "execution_count": 76,
   "metadata": {},
   "outputs": [
    {
     "name": "stdout",
     "output_type": "stream",
     "text": [
      "a: 0\n",
      "b: 1\n",
      "c: 2\n",
      "d: 3\n",
      "e: 4\n",
      "f: 5\n"
     ]
    }
   ],
   "source": [
    "#6318. [파이썬 프로그래밍 기초(1) 파이썬의 기본 구조와 기초 문법] 9. 내장함수 11\n",
    "\n",
    "#방법1\n",
    "# dic = {'a': 0, 'b': 1, 'c': 2, 'd': 3, 'e':4, 'f': 5}\n",
    "# for key, val in dic.items():\n",
    "#     print('{}: {}'.format(key,val))\n",
    "    \n",
    "#방법2\n",
    "a = 'abcdef'\n",
    "lst = list(a)\n",
    "dic = {}\n",
    "l = len(lst)\n",
    "for i in range(l):\n",
    "    dic[list[i]] = i\n",
    "\n",
    "for key, value in sorted(dic.items()):\n",
    "    print('{}: {}'.format(key,val))"
   ]
  }
 ],
 "metadata": {
  "kernelspec": {
   "display_name": "Python 3",
   "language": "python",
   "name": "python3"
  },
  "language_info": {
   "codemirror_mode": {
    "name": "ipython",
    "version": 3
   },
   "file_extension": ".py",
   "mimetype": "text/x-python",
   "name": "python",
   "nbconvert_exporter": "python",
   "pygments_lexer": "ipython3",
   "version": "3.7.6"
  }
 },
 "nbformat": 4,
 "nbformat_minor": 4
}
