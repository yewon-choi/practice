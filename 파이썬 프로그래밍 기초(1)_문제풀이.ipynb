{
 "cells": [
  {
   "cell_type": "code",
   "execution_count": 8,
   "metadata": {},
   "outputs": [
    {
     "name": "stdout",
     "output_type": "stream",
     "text": [
      "90\n",
      "90.00 kg =>  198.41 lb\n"
     ]
    }
   ],
   "source": [
    "#6206. [파이썬 프로그래밍 기초(1) 파이썬의 기본 구조와 기초 문법] 5. 연산자 2 D1 \n",
    "\n",
    "x = int(input())\n",
    "y = round(x * 2.2046,2)\n",
    "print('%0.2f kg =>  %0.2f lb'%(x,y))"
   ]
  },
  {
   "cell_type": "code",
   "execution_count": 17,
   "metadata": {},
   "outputs": [
    {
     "name": "stdout",
     "output_type": "stream",
     "text": [
      "18\n",
      "18.00 ℃ =>  52.97 ℉\n"
     ]
    }
   ],
   "source": [
    "#6207. [파이썬 프로그래밍 기초(1) 파이썬의 기본 구조와 기초 문법] 5. 연산자 3 D1 \n",
    "#1\n",
    "x = int(input())\n",
    "y = (82.40 / 28.00) * x\n",
    "print('%0.2f ℃ =>  %0.2f ℉'%(x,y))\n",
    "\n",
    "#2\n",
    "x=float(input())\n",
    "print(\"%0.2f ℃ =>  %0.2f ℉\"% (x,x*206/70))"
   ]
  },
  {
   "cell_type": "code",
   "execution_count": 18,
   "metadata": {},
   "outputs": [
    {
     "name": "stdout",
     "output_type": "stream",
     "text": [
      "82\n",
      "82.00 ℉ =>  27.78 ℃\n"
     ]
    }
   ],
   "source": [
    "#6209. [파이썬 프로그래밍 기초(1) 파이썬의 기본 구조와 기초 문법] 5. 연산자 4 D1\n",
    "\n",
    "x = int(input())\n",
    "y = (27.78 / 82.00) * x\n",
    "print('%0.2f ℉ =>  %0.2f ℃'%(x,y))"
   ]
  },
  {
   "cell_type": "code",
   "execution_count": null,
   "metadata": {},
   "outputs": [],
   "source": []
  },
  {
   "cell_type": "code",
   "execution_count": null,
   "metadata": {},
   "outputs": [],
   "source": []
  }
 ],
 "metadata": {
  "kernelspec": {
   "display_name": "Python 3",
   "language": "python",
   "name": "python3"
  },
  "language_info": {
   "codemirror_mode": {
    "name": "ipython",
    "version": 3
   },
   "file_extension": ".py",
   "mimetype": "text/x-python",
   "name": "python",
   "nbconvert_exporter": "python",
   "pygments_lexer": "ipython3",
   "version": "3.7.6"
  }
 },
 "nbformat": 4,
 "nbformat_minor": 4
}
