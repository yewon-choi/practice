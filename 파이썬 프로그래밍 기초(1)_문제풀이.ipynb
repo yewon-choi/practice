{
 "cells": [
  {
   "cell_type": "code",
   "execution_count": null,
   "metadata": {},
   "outputs": [],
   "source": [
    "#6206. [파이썬 프로그래밍 기초(1) 파이썬의 기본 구조와 기초 문법] 5. 연산자 2 D1 \n",
    "\n",
    "x = int(input())\n",
    "y = round(x * 2.2046,2)\n",
    "print('%0.2f kg =>  %0.2f lb'%(x,y))"
   ]
  },
  {
   "cell_type": "code",
   "execution_count": null,
   "metadata": {},
   "outputs": [],
   "source": [
    "#6207. [파이썬 프로그래밍 기초(1) 파이썬의 기본 구조와 기초 문법] 5. 연산자 3 D1 \n",
    "#1\n",
    "x = int(input())\n",
    "y = (82.40 / 28.00) * x\n",
    "print('%0.2f ℃ =>  %0.2f ℉'%(x,y))\n",
    "\n",
    "#2\n",
    "x=float(input())\n",
    "print(\"%0.2f ℃ =>  %0.2f ℉\"% (x,x*206/70))"
   ]
  },
  {
   "cell_type": "code",
   "execution_count": null,
   "metadata": {},
   "outputs": [],
   "source": [
    "#6209. [파이썬 프로그래밍 기초(1) 파이썬의 기본 구조와 기초 문법] 5. 연산자 4 D1\n",
    "\n",
    "x = int(input())\n",
    "y = (27.78 / 82.00) * x\n",
    "print('%0.2f ℉ =>  %0.2f ℃'%(x,y))"
   ]
  },
  {
   "cell_type": "code",
   "execution_count": null,
   "metadata": {},
   "outputs": [],
   "source": [
    "#6216. [파이썬 프로그래밍 기초(1) 파이썬의 기본 구조와 기초 문법] 5. 연산자 5 D1 \n",
    "x_1 = 100\n",
    "x_2 = 20\n",
    "y_1 = 200\n",
    "y_2 = 0\n",
    "z = ((x_2 + y_2) / (x_1 + y_1)) * 100\n",
    "print('혼합된 소금물의 농도: {}%'.format(round(z,2)))"
   ]
  },
  {
   "cell_type": "code",
   "execution_count": null,
   "metadata": {},
   "outputs": [],
   "source": [
    "#6218. [파이썬 프로그래밍 기초(1) 파이썬의 기본 구조와 기초 문법] 6. 흐름과 제어 - If 1 D1\n",
    "\n",
    "x = int(input())\n",
    "for i in range(1,x+1):\n",
    "    if x % i == 0:\n",
    "        print('{}(은)는 {}의 약수입니다.'.format(i,x))"
   ]
  },
  {
   "cell_type": "code",
   "execution_count": null,
   "metadata": {},
   "outputs": [],
   "source": [
    "#6219. [파이썬 프로그래밍 기초(1) 파이썬의 기본 구조와 기초 문법] 6. 흐름과 제어 - If 2 D1 \n",
    "\n",
    "x = int(input())\n",
    "cnt = 0\n",
    "for i in range(1,x+1):\n",
    "    if x % i == 0:\n",
    "        cnt += 1\n",
    "        print('{}(은)는 {}의 약수입니다.'.format(i,x))\n",
    "if cnt == 2:\n",
    "    print('{}(은)는 1과 {}로만 나눌 수 있는 소수입니다.'.format(x,x))\n",
    "        "
   ]
  },
  {
   "cell_type": "code",
   "execution_count": null,
   "metadata": {},
   "outputs": [],
   "source": [
    "#6220. [파이썬 프로그래밍 기초(1) 파이썬의 기본 구조와 기초 문법] 6. 흐름과 제어 - If 3 \n",
    "\n",
    "x = input()\n",
    "if x.lower():\n",
    "    print('{} 는 소문자 입니다.'.format(x))"
   ]
  },
  {
   "cell_type": "code",
   "execution_count": null,
   "metadata": {},
   "outputs": [],
   "source": [
    "#6221. [파이썬 프로그래밍 기초(1) 파이썬의 기본 구조와 기초 문법] 6. 흐름과 제어 - If 4 D1\n",
    "\n",
    "Man1 = input()\n",
    "Man2 = input()\n",
    "if Man1 == '가위':\n",
    "    if Man2 == '가위':\n",
    "        print('Result : Draw')\n",
    "    elif Man2 == '바위':\n",
    "        print('Result : Man2 Win!')\n",
    "    else:\n",
    "        pirnt('Result : Man1 Win!')\n",
    "elif Man1 == '바위':\n",
    "    if Man2 == '가위':\n",
    "        print('Result : Man1 Win!')\n",
    "    elif Man2 == '바위':\n",
    "        print('Result : Draw')\n",
    "    else:\n",
    "        print('Result : Man2 Win!')\n",
    "else:\n",
    "    if Man2 == '가위':\n",
    "        print('Result : Man2 Win!')\n",
    "    elif Man2 == '바위':\n",
    "        print('Result : Man1 Win!')\n",
    "    else:\n",
    "        print('Result : Draw') "
   ]
  },
  {
   "cell_type": "code",
   "execution_count": null,
   "metadata": {},
   "outputs": [],
   "source": [
    "#6222. [파이썬 프로그래밍 기초(1) 파이썬의 기본 구조와 기초 문법] 6. 흐름과 제어 - If 5\n",
    "#ASCII 코드 번호 ==> ord(a)\n",
    "x = input()\n",
    "\n",
    "if x.lower():\n",
    "    result = x.upper()\n",
    "elif x.upper():\n",
    "    result = x.lower()\n",
    "else:\n",
    "    result = x\n",
    "print('{}(ASCII:{}) => {}(ASCII:{})'.format(x, ord(x), result, ord(result)))"
   ]
  },
  {
   "cell_type": "code",
   "execution_count": null,
   "metadata": {},
   "outputs": [],
   "source": [
    "#6226. [파이썬 프로그래밍 기초(1) 파이썬의 기본 구조와 기초 문법] 6. 흐름과 제어 - If 7 D1\n",
    "#1~200 사이의 정수 가운데 7의 배수이면서 5의 배수는 아닌 모든 숫자들을 찾아\n",
    "#콤마(,)로 구분된 문자열을 구성해 출력하는 프로그램을 작성하십시오.\n",
    "#중간중간 , 로 구분하고 싶으면 .join함수// end =','는 마지막 값 뒤에도 ,나옴\n",
    "\n",
    "lst = []\n",
    "for i in range(1,201):\n",
    "    if i % 7 == 0 and i % 5 != 0:\n",
    "        lst.append(i)\n",
    "print(','.join(map(str,lst)))\n"
   ]
  },
  {
   "cell_type": "code",
   "execution_count": null,
   "metadata": {},
   "outputs": [],
   "source": [
    "#6227. [파이썬 프로그래밍 기초(1) 파이썬의 기본 구조와 기초 문법] 6. 흐름과 제어 - If 8\n",
    "#100~300 사이의 숫자에서 각각의 자리 숫자가 짝수인 숫자를 찾아 콤마(,)로 구분해 출력하는 프로그램을 작성하십시오.\n",
    "lst = []\n",
    "lst2 = []\n",
    "num = ''\n",
    "for i in range(100,301):\n",
    "    j = list(str(i))\n",
    "    if int(j[0]) % 2 == 0 and int(j[1]) % 2 == 0 and int(j[2]) % 2 == 0:\n",
    "        lst.append(j)\n",
    "for i in range(len(lst)):\n",
    "    num = ''\n",
    "    for j in range(3):\n",
    "        num += lst[i][j]\n",
    "    lst2.append(int(num))\n",
    "print(','.join(map(str,lst2)))"
   ]
  },
  {
   "cell_type": "code",
   "execution_count": null,
   "metadata": {},
   "outputs": [],
   "source": [
    "#6230. [파이썬 프로그래밍 기초(1) 파이썬의 기본 구조와 기초 문법] 7. 흐름과 제어 - 반복 1 D1\n",
    "#다음의 결과와 같이 5명의 학생의 점수에 대해 60 이상일 때 합격 메시지를 출력하고,\n",
    "#60미만일 때 불합격 메시지를 출력하는 프로그램을 만드십시오.\n",
    "\n",
    "students = {1 : 88, 2 : 30, 3 : 61, 4 : 55, 5 : 95}\n",
    "for key, value in students.items():\n",
    "    if value >= 60:\n",
    "        print('{}번 학생은 {}점으로 합격입니다.'.format(key,value))\n",
    "    else:\n",
    "        print('{}번 학생은 {}점으로 불합격입니다.'.format(key,value))\n"
   ]
  },
  {
   "cell_type": "code",
   "execution_count": null,
   "metadata": {},
   "outputs": [],
   "source": [
    "#6234. [파이썬 프로그래밍 기초(1) 파이썬의 기본 구조와 기초 문법] 7. 흐름과 제어 - 반복 3 D1\n",
    "#1부터 100사이의 숫자 중 짝수를 for 문을 이용해 다음과 같이 출력하십시오.\n",
    "\n",
    "for i in range(1,101):\n",
    "    if i % 2 == 0:\n",
    "        print(i, end =' ')"
   ]
  },
  {
   "cell_type": "code",
   "execution_count": null,
   "metadata": {},
   "outputs": [],
   "source": [
    "lst = []\n",
    "for j in range(1,101):\n",
    "    if j % 2 != 0:\n",
    "       lst.append(j) \n",
    "print(', '.join(map(str, lst)))"
   ]
  },
  {
   "cell_type": "code",
   "execution_count": null,
   "metadata": {},
   "outputs": [],
   "source": [
    "sum = 0\n",
    "for i in range(1,101):\n",
    "    if i % 3 == 0:\n",
    "        sum += i\n",
    "print('1부터 100사이의 숫자 중 3의 배수의 총합: {}'.format(sum))"
   ]
  },
  {
   "cell_type": "code",
   "execution_count": null,
   "metadata": {},
   "outputs": [],
   "source": [
    "#6242. [파이썬 프로그래밍 기초(1) 파이썬의 기본 구조와 기초 문법] 7. 흐름과 제어 - 반복 6 D1\n",
    "#다음은 10명의 학생들의 혈액형(A, B, AB, O) 데이터입니다.\n",
    "#['A', 'A', 'A', 'O', 'B', 'B', 'O', 'AB', 'AB', 'O']\n",
    "#for 문을 이용하여 각 혈액형 별 학생수를 구하십시오.\n",
    "\n",
    "lst = ['A', 'A', 'A', 'O', 'B', 'B', 'O', 'AB', 'AB', 'O']\n",
    "find = {'A': 0, 'O': 0, 'B': 0, 'AB': 0}\n",
    "for i in lst:\n",
    "    if i == 'A':\n",
    "        find[i] += 1\n",
    "    elif i == 'O':\n",
    "        find[i] += 1\n",
    "    elif i == 'B':\n",
    "        find[i] += 1\n",
    "    else:\n",
    "        find[i] += 1\n",
    "print(find)"
   ]
  },
  {
   "cell_type": "code",
   "execution_count": 2,
   "metadata": {},
   "outputs": [
    {
     "name": "stdout",
     "output_type": "stream",
     "text": [
      "454\n"
     ]
    }
   ],
   "source": [
    "lst = [85, 65, 77, 83, 75, 22, 98, 88, 38, 100]\n",
    "total = 0\n",
    "while len(lst) > 0:\n",
    "    if lst[-1] >= 80:\n",
    "        total += lst.pop()\n",
    "    else:\n",
    "        lst.pop()\n",
    "print(total)"
   ]
  },
  {
   "cell_type": "code",
   "execution_count": null,
   "metadata": {},
   "outputs": [],
   "source": []
  },
  {
   "cell_type": "code",
   "execution_count": null,
   "metadata": {},
   "outputs": [],
   "source": []
  },
  {
   "cell_type": "code",
   "execution_count": null,
   "metadata": {},
   "outputs": [],
   "source": []
  },
  {
   "cell_type": "code",
   "execution_count": null,
   "metadata": {},
   "outputs": [],
   "source": []
  },
  {
   "cell_type": "code",
   "execution_count": null,
   "metadata": {},
   "outputs": [],
   "source": []
  },
  {
   "cell_type": "code",
   "execution_count": null,
   "metadata": {},
   "outputs": [],
   "source": []
  },
  {
   "cell_type": "code",
   "execution_count": null,
   "metadata": {},
   "outputs": [],
   "source": []
  },
  {
   "cell_type": "code",
   "execution_count": null,
   "metadata": {},
   "outputs": [],
   "source": []
  },
  {
   "cell_type": "code",
   "execution_count": null,
   "metadata": {},
   "outputs": [],
   "source": []
  },
  {
   "cell_type": "code",
   "execution_count": null,
   "metadata": {},
   "outputs": [],
   "source": []
  }
 ],
 "metadata": {
  "kernelspec": {
   "display_name": "Python 3",
   "language": "python",
   "name": "python3"
  },
  "language_info": {
   "codemirror_mode": {
    "name": "ipython",
    "version": 3
   },
   "file_extension": ".py",
   "mimetype": "text/x-python",
   "name": "python",
   "nbconvert_exporter": "python",
   "pygments_lexer": "ipython3",
   "version": "3.7.6"
  }
 },
 "nbformat": 4,
 "nbformat_minor": 4
}
